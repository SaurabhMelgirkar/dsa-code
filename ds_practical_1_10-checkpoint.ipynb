{
 "cells": [
  {
   "cell_type": "code",
   "execution_count": 9,
   "id": "eadfab3d",
   "metadata": {},
   "outputs": [
    {
     "name": "stdout",
     "output_type": "stream",
     "text": [
      "Enter college id:-101\n",
      "Enter college name:-DY PATIL MCA\n",
      "Enter college address:-AKURDI PUNE\n",
      "Enter name of sports provider:-SG SPORTS\n",
      "Enter student intake:-210\n",
      "Enter college rank:-1\n",
      "\n",
      " College id:-  101 \n",
      " College name:-  DY PATIL MCA \n",
      " College Address:-  AKURDI PUNE \n",
      " Sports Provider:- SG SPORTS \n",
      " Student Intake:- 210 \n",
      " College Rank:- 1\n"
     ]
    }
   ],
   "source": [
    "#Q1\n",
    "def college():\n",
    "    coll_id=int(input(\"Enter college id:-\"))\n",
    "    coll_name=input(\"Enter college name:-\")\n",
    "    coll_add=input(\"Enter college address:-\")\n",
    "    sport=input(\"Enter name of sports provider:-\")\n",
    "    stu_intake=int(input(\"Enter student intake:-\"))\n",
    "    coll_rank=int(input(\"Enter college rank:-\"))\n",
    "    \n",
    "    print(\"\\n College id:- \",coll_id,\"\\n College name:- \",coll_name,\"\\n College Address:- \",coll_add,\"\\n Sports Provider:-\",sport,\"\\n Student Intake:-\",stu_intake,\"\\n College Rank:-\",coll_rank)\n",
    "\n",
    "college()\n",
    "\n"
   ]
  },
  {
   "cell_type": "code",
   "execution_count": 22,
   "id": "91a32518",
   "metadata": {},
   "outputs": [
    {
     "name": "stdout",
     "output_type": "stream",
     "text": [
      "Enter pizza name:-xyz\n",
      "Enter pizza size(small/medium/large):-small\n",
      "Enter pizza quantity:-5\n",
      "Enter delivery address:-akurdi\n",
      "Want some extra tropings(yes/no):-yes\n",
      "\n",
      " *********BILL********* \n",
      "Pizza price 495 RS. \n",
      " Delivery charges:- 25 RS.\n",
      "\n",
      " PIZZA NAME:- xyz \n",
      " PIZZA SIZE small \n",
      " PIZZA QUANTITY:- 5 \n",
      " DELIVERY ADDRESS:- akurdi \n",
      " EXTRA TROPINGS  yes\n"
     ]
    }
   ],
   "source": [
    "#Q2\n",
    "class pizza_mang_sys:\n",
    "    P_name=input(\"Enter pizza name:-\")\n",
    "    P_size=input(\"Enter pizza size(small/medium/large):-\")\n",
    "    P_quantity=int(input(\"Enter pizza quantity:-\"))\n",
    "    Addr=input(\"Enter delivery address:-\")\n",
    "    P_tro=input(\"Want some extra tropings(yes/no):-\")\n",
    "    \n",
    "    price=99\n",
    "    print(\"\\n *********BILL********* \")\n",
    "    if(P_quantity>5):\n",
    "        print(\" Pizza price\",price*P_quantity,\"RS.\",\"\\n Delivery is free\")\n",
    "    else:\n",
    "        print(\" Pizza price\",price*P_quantity,\"RS.\",\"\\n Delivery charges:-\",P_quantity*5,\"RS.\")\n",
    "        \n",
    "    \n",
    "    def display(self):\n",
    "        print(\"\\n PIZZA NAME:-\",self.P_name,\"\\n PIZZA SIZE\",self.P_size,\"\\n PIZZA QUANTITY:-\",self.P_quantity,\"\\n DELIVERY ADDRESS:-\",self.Addr,\"\\n EXTRA TROPINGS \",self.P_tro)\n",
    "        \n",
    "        \n",
    "pizza=pizza_mang_sys()\n",
    "pizza.display()\n",
    "    \n",
    "    "
   ]
  },
  {
   "cell_type": "code",
   "execution_count": 41,
   "id": "bd9b32ca",
   "metadata": {},
   "outputs": [
    {
     "name": "stdout",
     "output_type": "stream",
     "text": [
      "Enter machine id :-1\n",
      "Enter machine type :-small\n",
      "Enter machine name :-robot\n",
      "Enter machine name :-100000\n",
      " MACHINE ID:- 1 \n",
      " MACHINE TYPE:- small \n",
      " MACHINE NAME:- robot \n",
      " MACHINE PRICE:- 100000\n"
     ]
    }
   ],
   "source": [
    "#Q3\n",
    "class mach_mang:\n",
    "    def __init__(self):\n",
    "        self.m_id=int(input(\"Enter machine id :-\"))\n",
    "        self.m_type=input(\"Enter machine type :-\")\n",
    "        self.m_name=input(\"Enter machine name :-\")\n",
    "        self.m_price=int(input(\"Enter machine price :-\"))\n",
    "        \n",
    "        \n",
    "        print(\" MACHINE ID:-\",self.m_id,\"\\n MACHINE TYPE:-\",self.m_type,\"\\n MACHINE NAME:-\",self.m_name,\"\\n MACHINE PRICE:-\",self.m_price)\n",
    "        \n",
    "machine=mach_mang()\n",
    "        "
   ]
  },
  {
   "cell_type": "code",
   "execution_count": 44,
   "id": "c075d90d",
   "metadata": {},
   "outputs": [],
   "source": [
    "#Q4\n",
    "class fruit_basket:\n",
    "    def __init__(self):\n",
    "        self.f_name=input(\"Enter fruit name :-\")\n",
    "        self.f_price=int(input(\"Enter fruit price :-\"))\n",
    "        self.f_quat=int(input(\"Enter fruit quantity :-\"))\n",
    "        \n",
    "    def display(self):\n",
    "        print(\"FRUIT NAME:-\",self.f_name,\"\\n Fruit price\",self.f_price,\"\\n Fruit quantitr\",self.f_quat)\n",
    "\n"
   ]
  },
  {
   "cell_type": "code",
   "execution_count": null,
   "id": "cbd44bda",
   "metadata": {},
   "outputs": [],
   "source": [
    "#Q5\n",
    "class Node:\n",
    "    def __init__(self,data):\n",
    "        self.data=data\n",
    "        self.next=None\n",
    "        \n",
    "class Linkedlist:\n",
    "    def __init__(self,data):\n",
    "        self.head=None\n",
    "        self.tail=None\n",
    "        \n",
    "    def insert_beg(self,data):\n",
    "        newnode=Node(data)"
   ]
  },
  {
   "cell_type": "code",
   "execution_count": null,
   "id": "bb8707ec",
   "metadata": {},
   "outputs": [],
   "source": []
  }
 ],
 "metadata": {
  "kernelspec": {
   "display_name": "Python 3 (ipykernel)",
   "language": "python",
   "name": "python3"
  },
  "language_info": {
   "codemirror_mode": {
    "name": "ipython",
    "version": 3
   },
   "file_extension": ".py",
   "mimetype": "text/x-python",
   "name": "python",
   "nbconvert_exporter": "python",
   "pygments_lexer": "ipython3",
   "version": "3.11.5"
  }
 },
 "nbformat": 4,
 "nbformat_minor": 5
}
